{
 "cells": [
  {
   "cell_type": "code",
   "execution_count": 1,
   "metadata": {},
   "outputs": [],
   "source": [
    "import os\n",
    "import pandas as pd\n",
    "import numpy as np\n",
    "import time\n",
    "import gc\n",
    "import random\n",
    "import jieba\n",
    "from tqdm import *\n",
    "from sklearn.metrics import roc_auc_score,accuracy_score,f1_score\n",
    "import xgboost as xgb\n",
    "import lightgbm as lgb\n",
    "from sklearn.model_selection import StratifiedKFold,KFold,train_test_split\n",
    "from sklearn import preprocessing\n",
    "from sklearn.feature_extraction.text import TfidfVectorizer,CountVectorizer\n",
    "from sklearn.decomposition import TruncatedSVD,PCA,LatentDirichletAllocation,NMF\n",
    "from collections import Counter\n",
    "from gensim.models import Word2Vec\n",
    "def one_hot_col(col):\n",
    "    '''标签编码'''\n",
    "    lbl = preprocessing.LabelEncoder()\n",
    "    lbl.fit(col)\n",
    "    return lbl"
   ]
  },
  {
   "cell_type": "code",
   "execution_count": 2,
   "metadata": {},
   "outputs": [],
   "source": [
    "def cc_label(i):\n",
    "    if i=='传输系统-传输设备':\n",
    "        return 0\n",
    "    elif i=='传输系统-光缆故障':\n",
    "        return 1\n",
    "    elif i=='传输系统-其他原因':\n",
    "        return 2\n",
    "    elif i=='动力环境-UPS':\n",
    "        return 3\n",
    "    elif i=='动力环境-电力部门供电':\n",
    "        return 4\n",
    "    elif i=='动力环境-电源线路故障':\n",
    "        return 5\n",
    "    elif i=='动力环境-动环监控系统':\n",
    "        return 6\n",
    "    elif i=='动力环境-动力环境故障':\n",
    "        return 7\n",
    "    elif i=='动力环境-高低压设备':\n",
    "        return 8\n",
    "    elif i=='动力环境-环境':\n",
    "        return 9\n",
    "    elif i=='动力环境-开关电源':\n",
    "        return 10\n",
    "    elif i=='其他-误告警或自动恢复':\n",
    "        return 11\n",
    "    elif i=='人为操作-告警测试':\n",
    "        return 12\n",
    "    elif i=='人为操作-工程施工':\n",
    "        return 13\n",
    "    elif i=='人为操作-物业原因':\n",
    "        return 14\n",
    "    elif i=='主设备-参数配置异常':\n",
    "        return 15\n",
    "    elif i=='主设备-其他':\n",
    "        return 16\n",
    "    elif i=='主设备-软件故障':\n",
    "        return 17\n",
    "    elif i=='主设备-设备复位问题':\n",
    "        return 18\n",
    "    elif i=='主设备-设备连线故障':\n",
    "        return 19\n",
    "    elif i=='主设备-天馈线故障':\n",
    "        return 20\n",
    "    elif i=='主设备-信源问题':\n",
    "        return 21\n",
    "    elif i=='主设备-硬件故障':\n",
    "        return 22"
   ]
  },
  {
   "cell_type": "code",
   "execution_count": 3,
   "metadata": {},
   "outputs": [
    {
     "name": "stdout",
     "output_type": "stream",
     "text": [
      "(60346, 4)\n",
      "(59758, 4)\n"
     ]
    }
   ],
   "source": [
    "train_label= pd.read_csv(open(r'../data/训练故障工单.csv'))\n",
    "test_label= pd.read_csv(open(r'../data/测试故障工单.csv'))\n",
    "print(train_label.shape)\n",
    "train_label=train_label.drop_duplicates(['故障发生时间','涉及告警基站或小区名称',\\\n",
    "                   '故障原因定位（大类）']).reset_index(drop=True) ##去重 （18540，4）\n",
    "print(train_label.shape)\n",
    "label=pd.concat([train_label,test_label],axis=0).reset_index(drop=True)\n",
    "label['故障发生时间'] = pd.to_datetime(label['故障发生时间'])\n",
    "# label=label[label['故障发生时间']>pd.to_datetime('2019-01-31 23:00:00')]\n",
    "label=label.sort_values(by=['涉及告警基站或小区名称','故障发生时间']).reset_index(drop=True)"
   ]
  },
  {
   "cell_type": "code",
   "execution_count": 4,
   "metadata": {},
   "outputs": [],
   "source": [
    "traing= pd.read_csv(open(r'../data/训练告警.csv'))\n",
    "testg= pd.read_csv(open(r'../data/测试告警.csv'))\n",
    "data=pd.concat([traing,testg],axis=0).reset_index(drop=True)\n",
    "data=data[~data['涉及告警基站或小区名称'].isnull()]\n",
    "data=data.drop_duplicates().reset_index(drop=True)\n",
    "\n",
    "data['告警发生时间'] = data['告警发生时间'].apply(lambda x:x.replace('FEB','02'))\n",
    "data['告警发生时间'] = data['告警发生时间'].apply(lambda x:x.replace('MAR','03'))\n",
    "data['告警发生时间'] = pd.to_datetime(data['告警发生时间'],format=\"%d-%m-%Y %H:%M:%S\")\n",
    "lbl = preprocessing.LabelEncoder()\n",
    "data['告警标题'] = lbl.fit_transform(data['告警标题'])\n",
    "data['告警标题'] = data['告警标题'].astype(str)"
   ]
  },
  {
   "cell_type": "code",
   "execution_count": 5,
   "metadata": {},
   "outputs": [],
   "source": [
    "sp_word = ['29','16', '46', '22', '33', '41', '113', '120', '8', '96', '59', '13', '40',\n",
    "       '39', '26', '34', '37', '32', '94', '65', '14', '97', '129', '42', '15',\n",
    "       '121', '108', '128', '12', '31', '85', '119', '123']\n",
    "feat = data[['涉及告警基站或小区名称', '告警标题']].copy()\n",
    "feat = feat.groupby(['涉及告警基站或小区名称'])['告警标题'].agg(lambda x: ' '.join(x)).reset_index(name='Product_list')\n",
    "tf_idf = TfidfVectorizer(stop_words=sp_word)\n",
    "tf_vec = tf_idf.fit_transform(feat['Product_list'].values.tolist())\n",
    "tf_df = pd.DataFrame(tf_vec.toarray())\n",
    "tf_df['涉及告警基站或小区名称'] = feat['涉及告警基站或小区名称'].values\n",
    "tf_df.columns = ['idf_'+str(i+1) for i in range(tf_df.shape[1]-1)]+ ['涉及告警基站或小区名称']\n",
    "label = label.merge(tf_df, on='涉及告警基站或小区名称', how='left')"
   ]
  },
  {
   "cell_type": "code",
   "execution_count": 6,
   "metadata": {},
   "outputs": [],
   "source": [
    "def get_sta(data, col, agg_col):\n",
    "    temp = data.groupby(['涉及告警基站或小区名称', col]).size().reset_index(name='gaojing_count')\n",
    "    temp = temp.groupby('涉及告警基站或小区名称')['gaojing_count'].agg(agg_col).reset_index()\n",
    "    temp.columns = ['涉及告警基站或小区名称'] + [col+'_'+i for i in temp.columns[1:]]\n",
    "    return temp"
   ]
  },
  {
   "cell_type": "code",
   "execution_count": 7,
   "metadata": {},
   "outputs": [],
   "source": [
    "agg_col = ['max', 'min', 'mean', 'std', 'median', 'skew',np.ptp]\n",
    "temp = get_sta(data, '告警标题', agg_col)\n",
    "label = label.merge(temp, on = '涉及告警基站或小区名称', how= 'left')"
   ]
  },
  {
   "cell_type": "code",
   "execution_count": 8,
   "metadata": {},
   "outputs": [],
   "source": [
    "label['故障发生时间_min'] = label['故障发生时间'].dt.minute\n",
    "label['故障发生时间_mon'] = label['故障发生时间'].dt.month\n",
    "label['故障发生时间_day'] = label['故障发生时间'].dt.day\n",
    "label['故障发生时间_dayofyear'] = label['故障发生时间'].dt.dayofyear\n",
    "label['故障发生时间_hour'] = label['故障发生时间'].dt.hour\n",
    "label['故障发生时间_weekday'] = label['故障发生时间'].dt.weekday\n",
    "label['故障发生时间_wy'] = label['故障发生时间'].dt.weekofyear\n",
    "label['故障发生时间_是否周末'] = label['故障发生时间_weekday'].apply(lambda x:1 if x >= 5 else 0)"
   ]
  },
  {
   "cell_type": "code",
   "execution_count": 9,
   "metadata": {},
   "outputs": [],
   "source": [
    "label['涉及告警基站或小区名称_code'] = preprocessing.LabelEncoder().fit_transform(label['涉及告警基站或小区名称'])\n",
    "label['涉及告警基站或小区名称_count'] = label.groupby('涉及告警基站或小区名称')['故障发生时间'].transform('count')\n",
    "temp = label.groupby('涉及告警基站或小区名称')['故障发生时间'].nunique().reset_index(name='涉及告警基站或小区名称_nunique')\n",
    "label = label.merge(temp, on = '涉及告警基站或小区名称', how= 'left')"
   ]
  },
  {
   "cell_type": "code",
   "execution_count": 10,
   "metadata": {},
   "outputs": [],
   "source": [
    "label['故障发生时间_day_count'] = label.groupby(['涉及告警基站或小区名称', '故障发生时间_dayofyear'])['工单编号'].transform('count')\n",
    "label['故障发生时间_week_count'] = label.groupby(['涉及告警基站或小区名称', '故障发生时间_wy'])['工单编号'].transform('count')\n",
    "label['故障发生时间_hour_count'] = label.groupby(['涉及告警基站或小区名称', '故障发生时间_hour'])['工单编号'].transform('count')\n",
    "label['故障发生时间_周末_count'] = label.groupby(['涉及告警基站或小区名称', '故障发生时间_是否周末'])['工单编号'].transform('count')\n",
    "label['故障发生时间_weekday_count'] = label.groupby(['涉及告警基站或小区名称', '故障发生时间_weekday'])['工单编号'].transform('count')\n",
    "label['故障发生时间_故障发生时间_count'] = label.groupby(['涉及告警基站或小区名称', '故障发生时间'])['工单编号'].transform('count')"
   ]
  },
  {
   "cell_type": "code",
   "execution_count": null,
   "metadata": {},
   "outputs": [],
   "source": []
  },
  {
   "cell_type": "code",
   "execution_count": 11,
   "metadata": {},
   "outputs": [],
   "source": [
    "pivot = pd.pivot_table(label, index = '涉及告警基站或小区名称', columns= '故障发生时间_hour',values=['工单编号'],aggfunc='count').reset_index().fillna(0)\n",
    "pivot.columns = ['涉及告警基站或小区名称'] + ['gu'+str(int(i)) for i in pivot['工单编号'].columns.tolist()]\n",
    "label = label.merge(pivot, on='涉及告警基站或小区名称', how='left')"
   ]
  },
  {
   "cell_type": "code",
   "execution_count": 12,
   "metadata": {},
   "outputs": [
    {
     "data": {
      "text/plain": [
       "'new,故障发生时间_weekday_count'"
      ]
     },
     "execution_count": 12,
     "metadata": {},
     "output_type": "execute_result"
    }
   ],
   "source": [
    "def get_sta1(data, col, agg_col):\n",
    "    temp = data[['涉及告警基站或小区名称', col]]\n",
    "    temp = temp.groupby('涉及告警基站或小区名称')[col].agg(agg_col).reset_index()\n",
    "    temp.columns = ['涉及告警基站或小区名称'] + [col+'_'+i for i in temp.columns[1:]]\n",
    "    return temp\n",
    "agg_col = ['max', 'min', 'mean', 'std', 'median', 'skew',np.ptp]\n",
    "for i in ['故障发生时间_day_count', '故障发生时间_week_count', '故障发生时间_hour_count',\n",
    "          '故障发生时间_周末_count', '故障发生时间_weekday_count']:\n",
    "    temp = get_sta1(label, i, agg_col)\n",
    "    label = label.merge(temp, on = '涉及告警基站或小区名称', how= 'left')\n",
    "\"\"\"new,故障发生时间_weekday_count\"\"\""
   ]
  },
  {
   "cell_type": "code",
   "execution_count": 13,
   "metadata": {},
   "outputs": [],
   "source": [
    "\"\"\"new\"\"\"\n",
    "for i in ['故障发生时间_day_count', '故障发生时间_week_count', '故障发生时间_hour_count',\n",
    "          '故障发生时间_周末_count', '故障发生时间_weekday_count']:\n",
    "    label[i+'dmin'] = label[i] - label[i+'_min']"
   ]
  },
  {
   "cell_type": "code",
   "execution_count": 14,
   "metadata": {},
   "outputs": [],
   "source": [
    "def pivot_df(data):\n",
    "    pivot = pd.pivot_table(data, index = '涉及告警基站或小区名称', columns= '告警标题',values=['告警发生时间'],aggfunc='count').reset_index().fillna(0)\n",
    "    pivot.columns = ['涉及告警基站或小区名称'] + pivot['告警发生时间'].columns.tolist()\n",
    "    gj_index = []\n",
    "    gj_values = []\n",
    "    for i,row in pivot.iterrows():\n",
    "        gj_index.append(row[1:].sort_values(ascending=False).head(4).index.tolist())\n",
    "        gj_values.append(row[1:].sort_values(ascending=False).head(4).values/row[1:].sum())\n",
    "    temp = pd.concat([pd.DataFrame(gj_index).astype(int),pd.DataFrame(gj_values)],axis=1)\n",
    "    temp['涉及告警基站或小区名称'] = pivot['涉及告警基站或小区名称'].values\n",
    "    return temp\n",
    "temp = pivot_df(data)\n",
    "temp.columns = ['top_'+str(i) for i in range(8)]+ ['涉及告警基站或小区名称']\n",
    "label = label.merge(temp, on='涉及告警基站或小区名称', how='left')"
   ]
  },
  {
   "cell_type": "code",
   "execution_count": 15,
   "metadata": {},
   "outputs": [],
   "source": [
    "label['小区故障时间_min'] = label.groupby(['涉及告警基站或小区名称'])['故障发生时间_dayofyear'].transform('min')\n",
    "label['小区故障时间_max'] = label.groupby(['涉及告警基站或小区名称'])['故障发生时间_dayofyear'].transform('max')\n",
    "label['小区故障时间_ptp'] = label.groupby(['涉及告警基站或小区名称'])['故障发生时间_dayofyear'].transform(np.ptp)\n",
    "\"\"\"new\"\"\"\n",
    "label['故障发生时间_dayofyear_dmin'] = label['故障发生时间_dayofyear'] - label['小区故障时间_min']"
   ]
  },
  {
   "cell_type": "code",
   "execution_count": 16,
   "metadata": {},
   "outputs": [],
   "source": [
    "def make_feature(data,aggs,name):\n",
    "    agg_data = data.groupby('涉及告警基站或小区名称').agg(aggs)\n",
    "    agg_data.columns = agg_data.columns = ['_'.join(i).strip()+name for i in agg_data.columns.tolist()]\n",
    "    return agg_data.reset_index()\n",
    "aggs = {\n",
    "    '故障发生时间_是否周末': ['mean'],\n",
    "    '故障发生时间_hour': ['nunique'],\n",
    "    '故障发生时间_weekday': ['nunique'],\n",
    "    '故障发生时间_day':['nunique'],\n",
    "    '故障发生时间_wy':['nunique'],\n",
    "    '故障发生时间_dayofyear':['nunique']\n",
    "}\n",
    "agg_df=make_feature(label,aggs,\"_故障\")\n",
    "label = label.merge(agg_df, on='涉及告警基站或小区名称', how='left')"
   ]
  },
  {
   "cell_type": "code",
   "execution_count": 17,
   "metadata": {},
   "outputs": [],
   "source": [
    "label['故障发生时间_int'] = label['故障发生时间'].apply(lambda x: x.value//10**9)\n",
    "label['故障发生时间_diff'] = label.groupby(['涉及告警基站或小区名称'])['故障发生时间_int'].diff()\n",
    "label['故障发生时间_diff_min'] = label.groupby(['涉及告警基站或小区名称'])['故障发生时间_diff'].transform('min')\n",
    "label['故障发生时间_diff_max'] = label.groupby(['涉及告警基站或小区名称'])['故障发生时间_diff'].transform('max')\n",
    "label['故障发生时间_diff_mean'] = label.groupby(['涉及告警基站或小区名称'])['故障发生时间_diff'].transform('mean')\n",
    "label['故障发生时间_diff_std'] = label.groupby(['涉及告警基站或小区名称'])['故障发生时间_diff'].transform('std')\n",
    "label['故障发生时间_diff_mean'] = label.groupby(['涉及告警基站或小区名称'])['故障发生时间_diff'].transform('median')\n",
    "label['故障发生时间_diff_ptp'] = label.groupby(['涉及告警基站或小区名称'])['故障发生时间_diff'].transform(np.ptp)\n",
    "del label['故障发生时间_int']"
   ]
  },
  {
   "cell_type": "code",
   "execution_count": 18,
   "metadata": {},
   "outputs": [],
   "source": [
    "temp = label.groupby(['涉及告警基站或小区名称', '故障发生时间_diff']).size().reset_index(name='diff1')\n",
    "label = label.merge(temp, on = ['涉及告警基站或小区名称', '故障发生时间_diff'], how= 'left')\n",
    "agg_col = ['max', 'min', 'mean', 'std', 'median', np.ptp]\n",
    "temp = get_sta(label, 'diff1', agg_col)\n",
    "label = label.merge(temp, on = '涉及告警基站或小区名称', how= 'left')"
   ]
  },
  {
   "cell_type": "code",
   "execution_count": 19,
   "metadata": {},
   "outputs": [],
   "source": [
    "pivot = pd.pivot_table(data, index = '涉及告警基站或小区名称', columns= '告警标题',values=['告警发生时间'],aggfunc='nunique').reset_index().fillna(0)\n",
    "pivot = pivot.iloc[:,:131].copy()\n",
    "pivot.columns = ['涉及告警基站或小区名称'] + [i+'n' for i in pivot['告警发生时间'].columns.tolist()]\n",
    "label = label.merge(pivot, on='涉及告警基站或小区名称', how='left')"
   ]
  },
  {
   "cell_type": "code",
   "execution_count": 20,
   "metadata": {},
   "outputs": [],
   "source": [
    "data['告警发生时间_min'] = data['告警发生时间'].dt.minute\n",
    "data['告警发生时间_mon'] = data['告警发生时间'].dt.month\n",
    "data['告警发生时间_day'] = data['告警发生时间'].dt.day\n",
    "data['告警发生时间_dayofyear'] = data['告警发生时间'].dt.dayofyear\n",
    "data['告警发生时间_hour'] = data['告警发生时间'].dt.hour\n",
    "data['告警发生时间_weekday'] = data['告警发生时间'].dt.weekday\n",
    "data['告警发生时间_wy'] = data['告警发生时间'].dt.weekofyear\n",
    "data['告警发生时间_是否周末'] = data['告警发生时间_weekday'].apply(lambda x:1 if x >= 5 else 0)"
   ]
  },
  {
   "cell_type": "code",
   "execution_count": 21,
   "metadata": {},
   "outputs": [],
   "source": [
    "pivot = pd.pivot_table(data, index = '涉及告警基站或小区名称', columns= '告警发生时间_hour',values=['告警标题'],aggfunc='count').reset_index().fillna(0)\n",
    "pivot.columns = ['涉及告警基站或小区名称'] + ['gao'+str(int(i)) for i in pivot['告警标题'].columns.tolist()]\n",
    "label = label.merge(pivot, on='涉及告警基站或小区名称', how='left')"
   ]
  },
  {
   "cell_type": "code",
   "execution_count": 22,
   "metadata": {},
   "outputs": [],
   "source": [
    "for i in range(24):\n",
    "    label['gu_gao'+str(i)] = label['gu'+str(i)] / (label['gao'+str(i)]+1)"
   ]
  },
  {
   "cell_type": "code",
   "execution_count": 23,
   "metadata": {},
   "outputs": [],
   "source": [
    "def make_feature(data,aggs,name):\n",
    "    agg_data = data.groupby('涉及告警基站或小区名称').agg(aggs)\n",
    "    agg_data.columns = agg_data.columns = ['_'.join(i).strip()+name for i in agg_data.columns.tolist()]\n",
    "    return agg_data.reset_index()\n",
    "aggs = {\n",
    "    '告警标题': ['count', 'nunique'],\n",
    "    '告警发生时间_是否周末': ['mean','sum'],\n",
    "    '告警发生时间_hour': ['nunique'],\n",
    "    '告警发生时间_weekday': ['nunique'],\n",
    "    '告警发生时间_day':['nunique'],\n",
    "    '告警发生时间_wy':['nunique'],\n",
    "    '告警发生时间_dayofyear':['nunique', 'max', 'min', np.ptp],\n",
    "}\n",
    "agg_df=make_feature(data,aggs,\"_告警\")\n",
    "label = label.merge(agg_df, on='涉及告警基站或小区名称', how='left')"
   ]
  },
  {
   "cell_type": "code",
   "execution_count": 24,
   "metadata": {},
   "outputs": [
    {
     "name": "stdout",
     "output_type": "stream",
     "text": [
      "(66454, 401)\n",
      "(66454, 406)\n",
      "(66454, 406)\n",
      "(66454, 411)\n"
     ]
    }
   ],
   "source": [
    "print(label.shape)\n",
    "for i in ['_dayofyear', '_wy', '_hour', '_是否周末', '_weekday']:\n",
    "    haha = data.groupby(['涉及告警基站或小区名称', '告警发生时间'+i])['告警标题'].count().reset_index(name='告警发生时间'+i+'_count')\n",
    "    haha.columns = ['涉及告警基站或小区名称', '故障发生时间'+i, '告警发生时间'+i+'_count']\n",
    "    label = label.merge(haha,on = ['涉及告警基站或小区名称', '故障发生时间'+i], how='left')\n",
    "print(label.shape)\n",
    "print(label.shape)\n",
    "for i in ['_dayofyear', '_wy', '_hour', '_是否周末', '_weekday']:\n",
    "    haha = data.groupby(['涉及告警基站或小区名称', '告警发生时间'+i])['告警标题'].nunique().reset_index(name='告警发生时间'+i+'_nunique')\n",
    "    haha.columns = ['涉及告警基站或小区名称', '故障发生时间'+i, '告警发生时间'+i+'_nunique']\n",
    "    label = label.merge(haha,on = ['涉及告警基站或小区名称', '故障发生时间'+i], how='left')\n",
    "print(label.shape)"
   ]
  },
  {
   "cell_type": "code",
   "execution_count": 25,
   "metadata": {},
   "outputs": [],
   "source": [
    "# def guzhang_time_w2v(label):\n",
    "#     temp = label[['涉及告警基站或小区名称','故障发生时间_diff']].copy()\n",
    "#     temp['故障发生时间_diff'] = temp['故障发生时间_diff'].fillna(-1)\n",
    "#     temp['故障发生时间_diff'] = temp['故障发生时间_diff'].astype(str)\n",
    "#     sen2 = temp['故障发生时间_diff'].values.tolist()\n",
    "#     temp = temp.groupby(['涉及告警基站或小区名称'])['故障发生时间_diff'].apply(list).reset_index(name='qwer')\n",
    "#     temp = temp.sample(frac=1.0, random_state=666)\n",
    "\n",
    "#     sen = temp['qwer'].values.tolist()\n",
    "#     try:\n",
    "#         fastmodel = Word2Vec.load('model_diff.txt')\n",
    "#     except:\n",
    "#     #     fastmodel =Word2Vec(sen,size=100,window=8,min_count=1,negative=1,workers=4,iter=10)\n",
    "#         fastmodel =Word2Vec(sen,size=100,window=8,min_count=1,sg=1,workers=4,iter=10)\n",
    "#         fastmodel.save('model_diff.txt')\n",
    "#     w2v = []\n",
    "#     for i in range(len(sen2)):\n",
    "#         w2v.append(fastmodel.wv[sen2[i]])\n",
    "#     del sen;gc.collect()\n",
    "#     w2v_time_df = pd.DataFrame(w2v)\n",
    "#     del w2v;gc.collect()\n",
    "#     w2v_time_df.columns = ['diff_'+str(i+1) for i in w2v_time_df.columns]\n",
    "#     return  w2v_time_df"
   ]
  },
  {
   "cell_type": "code",
   "execution_count": 26,
   "metadata": {},
   "outputs": [],
   "source": [
    "# w2v_time_df = guzhang_time_w2v(label)\n",
    "# label = pd.concat([label, w2v_time_df], axis=1)"
   ]
  },
  {
   "cell_type": "code",
   "execution_count": 27,
   "metadata": {},
   "outputs": [],
   "source": [
    "label['故障原因定位（大类）'] = label['故障原因定位（大类）'].map(cc_label)\n",
    "del label['故障发生时间_周末_count_skew']"
   ]
  },
  {
   "cell_type": "code",
   "execution_count": 28,
   "metadata": {},
   "outputs": [],
   "source": [
    "train = label[~label['故障原因定位（大类）'].isnull()]\n",
    "test = label[label['故障原因定位（大类）'].isnull()]"
   ]
  },
  {
   "cell_type": "code",
   "execution_count": 29,
   "metadata": {},
   "outputs": [
    {
     "name": "stdout",
     "output_type": "stream",
     "text": [
      "(59758, 406) (6696, 406)\n"
     ]
    }
   ],
   "source": [
    "col = [i for i in train.columns if i not in ['涉及告警基站或小区名称', '故障发生时间',\n",
    "                                             '工单编号','告警发生时间',#'故障发生时间_min',\n",
    "                                             '故障原因定位（大类）']]\n",
    "X_train = train[col].copy().reset_index(drop=True)\n",
    "y_train = train['故障原因定位（大类）'].copy().reset_index(drop=True)\n",
    "X_test = test[col].copy()\n",
    "print(X_train.shape, X_test.shape)\n",
    "# (59758, 406) (6696, 406)"
   ]
  },
  {
   "cell_type": "code",
   "execution_count": 30,
   "metadata": {},
   "outputs": [],
   "source": [
    "# oo = []\n",
    "# for i in X_train.columns:\n",
    "#     cc = (X_train[i].value_counts()/X_train.shape[0]).values[0]\n",
    "#     if cc>0.999:\n",
    "#         oo.append(i)\n",
    "# for i in X_test.columns:\n",
    "#     cc = (X_test[i].value_counts()/X_test.shape[0]).values[0]\n",
    "#     if cc>0.999:\n",
    "#         oo.append(i)\n",
    "# oo = list(set(oo))\n",
    "# X_train = X_train.drop(columns=oo)\n",
    "# X_test = X_test.drop(columns=oo)\n",
    "# print(X_train.shape, X_test.shape)"
   ]
  },
  {
   "cell_type": "code",
   "execution_count": 31,
   "metadata": {},
   "outputs": [],
   "source": [
    "def accua(df1, df_oof):\n",
    "    rr = list(np.argsort(df_oof,axis=1)[:,-3:])\n",
    "    acc = 0\n",
    "    for i in range(len(df1)):\n",
    "        acc += len(set([df1.values[i]])&set(list(rr[i])))\n",
    "    return acc/len(df1)"
   ]
  },
  {
   "cell_type": "code",
   "execution_count": 32,
   "metadata": {},
   "outputs": [
    {
     "name": "stdout",
     "output_type": "stream",
     "text": [
      "fold 0\n",
      "Training until validation scores don't improve for 100 rounds.\n",
      "[100]\ttraining's multi_error: 0.193046\tvalid_1's multi_error: 0.301814\n",
      "[200]\ttraining's multi_error: 0.0931858\tvalid_1's multi_error: 0.291113\n",
      "[300]\ttraining's multi_error: 0.0373454\tvalid_1's multi_error: 0.290026\n",
      "[400]\ttraining's multi_error: 0.0156704\tvalid_1's multi_error: 0.289524\n",
      "Early stopping, best iteration is:\n",
      "[349]\ttraining's multi_error: 0.0239973\tvalid_1's multi_error: 0.288605\n",
      "0.9313388616315693\n",
      "0.90811805033024\n",
      "best iteration =  349\n",
      "                      auc =  0.7113953682802441\n",
      "fold 1\n",
      "Training until validation scores don't improve for 100 rounds.\n",
      "[100]\ttraining's multi_error: 0.191473\tvalid_1's multi_error: 0.303555\n",
      "[200]\ttraining's multi_error: 0.0916888\tvalid_1's multi_error: 0.291677\n",
      "[300]\ttraining's multi_error: 0.0383658\tvalid_1's multi_error: 0.290422\n",
      "Early stopping, best iteration is:\n",
      "[233]\ttraining's multi_error: 0.0685522\tvalid_1's multi_error: 0.28967\n",
      "0.9288821381906036\n",
      "0.9049769970723547\n",
      "best iteration =  233\n",
      "                      auc =  0.7103304056879967\n",
      "fold 2\n",
      "Training until validation scores don't improve for 100 rounds.\n",
      "[100]\ttraining's multi_error: 0.195202\tvalid_1's multi_error: 0.302652\n",
      "[200]\ttraining's multi_error: 0.0913046\tvalid_1's multi_error: 0.290603\n",
      "[300]\ttraining's multi_error: 0.0368774\tvalid_1's multi_error: 0.287173\n",
      "Early stopping, best iteration is:\n",
      "[298]\ttraining's multi_error: 0.0376514\tvalid_1's multi_error: 0.286503\n",
      "0.9307080403612157\n",
      "0.9093799682034976\n",
      "best iteration =  298\n",
      "                      auc =  0.7134967785122583\n",
      "fold 3\n",
      "Training until validation scores don't improve for 100 rounds.\n",
      "[100]\ttraining's multi_error: 0.194687\tvalid_1's multi_error: 0.298125\n",
      "[200]\ttraining's multi_error: 0.092031\tvalid_1's multi_error: 0.28917\n",
      "[300]\ttraining's multi_error: 0.0367496\tvalid_1's multi_error: 0.287161\n",
      "[400]\ttraining's multi_error: 0.0156243\tvalid_1's multi_error: 0.287328\n",
      "Early stopping, best iteration is:\n",
      "[340]\ttraining's multi_error: 0.0261452\tvalid_1's multi_error: 0.285487\n",
      "0.9327907594436123\n",
      "0.9094409106126549\n",
      "best iteration =  340\n",
      "                      auc =  0.7145128891864747\n",
      "fold 4\n",
      "Training until validation scores don't improve for 100 rounds.\n",
      "[100]\ttraining's multi_error: 0.192994\tvalid_1's multi_error: 0.310642\n",
      "[200]\ttraining's multi_error: 0.0902646\tvalid_1's multi_error: 0.298836\n",
      "[300]\ttraining's multi_error: 0.0357837\tvalid_1's multi_error: 0.29691\n",
      "[400]\ttraining's multi_error: 0.0147652\tvalid_1's multi_error: 0.295906\n",
      "Early stopping, best iteration is:\n",
      "[375]\ttraining's multi_error: 0.0184252\tvalid_1's multi_error: 0.295236\n",
      "0.9271300684060757\n",
      "0.9069747969521895\n",
      "best iteration =  375\n",
      "                      auc =  0.7047642970777862\n",
      "0.9077781446341874 0.9301699736066154\n"
     ]
    }
   ],
   "source": [
    "K = 5\n",
    "seed = 2018\n",
    "skf = StratifiedKFold(n_splits=K, shuffle=True, random_state=seed)\n",
    "params = {\n",
    "    'boosting_type': 'gbdt',\n",
    "    'learning_rate' : 0.04, \n",
    "    'verbose': 0,\n",
    "    'num_leaves':256,\n",
    "    # 'max_depth':8, \n",
    "#     'max_bin':10, \n",
    "#     'lambda_l2': 1, \n",
    "    'min_child_weight':10,#10\n",
    "    \"num_class\":23,\n",
    "    'objective':'multiclass', \n",
    "    'feature_fraction':0.6,#0.4\n",
    "    'bagging_fraction':0.8, # 0.7\n",
    "    'bagging_freq':5,  # 3是目前最优的\n",
    "#           'min_data': 500,\n",
    "    'seed': 1017,\n",
    "    'metric':'multi_error',\n",
    "    'nthread': 14,\n",
    "    # 'silent': True,\n",
    "}\n",
    "# %%time\n",
    "oof = np.zeros((len(X_train),23))\n",
    "predictions = np.zeros((len(X_test), 23))\n",
    "feature_importance_df = pd.DataFrame()\n",
    "auc_score = []\n",
    "acc_sc = []\n",
    "for i, (train_index, val_index) in enumerate(skf.split(X_train,y_train)):\n",
    "    print(\"fold {}\".format(i))\n",
    "    X_tr, X_val = X_train.iloc[train_index], X_train.iloc[val_index]\n",
    "    y_tr, y_val = y_train.iloc[train_index], y_train.iloc[val_index]\n",
    "    \n",
    "    lgb_train = lgb.Dataset(X_tr,y_tr)\n",
    "    lgb_val = lgb.Dataset(X_val,y_val)\n",
    "    num_round = 1000\n",
    "    clf = lgb.train(params, lgb_train, num_round, valid_sets = [lgb_train, lgb_val],#feval=feval_lgb,\n",
    "                    verbose_eval=100, early_stopping_rounds = 100\n",
    "                   )\n",
    "    oof[val_index] = clf.predict(X_val, num_iteration=clf.best_iteration)\n",
    "    pred = clf.predict(X_val, num_iteration=clf.best_iteration)\n",
    "    print(roc_auc_score(pd.get_dummies(y_val).values, pred,average='weighted'))\n",
    "    print(accua(y_val,pred))\n",
    "    auc_ss = accuracy_score(y_val, np.argmax(pred,axis=1))\n",
    "    auc_score.append(accua(y_val,pred))\n",
    "    acc_sc.append(roc_auc_score(pd.get_dummies(y_val).values, pred,average='weighted'))\n",
    "    print('best iteration = ',clf.best_iteration)\n",
    "    print('                      auc = ', auc_ss)\n",
    "    fold_importance_df = pd.DataFrame()\n",
    "    fold_importance_df[\"Feature\"] = clf.feature_name()\n",
    "    fold_importance_df[\"importance\"] = clf.feature_importance()\n",
    "    fold_importance_df[\"fold\"] = i + 1\n",
    "    feature_importance_df = pd.concat([feature_importance_df, fold_importance_df], axis=0)\n",
    "    predictions += clf.predict(X_test, num_iteration=clf.best_iteration) / skf.n_splits\n",
    "print(np.mean(auc_score), np.mean(acc_sc))"
   ]
  },
  {
   "cell_type": "code",
   "execution_count": null,
   "metadata": {},
   "outputs": [],
   "source": [
    "0.9083466126181813 0.930153187418879"
   ]
  },
  {
   "cell_type": "code",
   "execution_count": 38,
   "metadata": {
    "scrolled": true
   },
   "outputs": [
    {
     "ename": "SyntaxError",
     "evalue": "invalid syntax (<ipython-input-38-ca2714fee1d6>, line 1)",
     "output_type": "error",
     "traceback": [
      "\u001b[1;36m  File \u001b[1;32m\"<ipython-input-38-ca2714fee1d6>\"\u001b[1;36m, line \u001b[1;32m1\u001b[0m\n\u001b[1;33m    0.9005320595498306 0.9239174690421601\u001b[0m\n\u001b[1;37m                                        ^\u001b[0m\n\u001b[1;31mSyntaxError\u001b[0m\u001b[1;31m:\u001b[0m invalid syntax\n"
     ]
    }
   ],
   "source": [
    "0.9005320595498306 0.9239174690421601\n",
    "0.9007160395519019 0.9241009818241505\n",
    "0.9011869335990553 0.9246214461162706\n",
    "0.9042471634996246 0.9270247590851846\n",
    "0.9064225839032588 0.9288244537462365\n",
    "0.9068574812357271 0.9291319478230011\n",
    "0.9083466126181813 0.930153187418879"
   ]
  },
  {
   "cell_type": "code",
   "execution_count": 33,
   "metadata": {},
   "outputs": [
    {
     "name": "stdout",
     "output_type": "stream",
     "text": [
      "(59758, 396) (6696, 396)\n"
     ]
    }
   ],
   "source": [
    "col = [i for i in train.columns if i not in ['涉及告警基站或小区名称', '故障发生时间',\n",
    "                                             '工单编号','告警发生时间',#'故障发生时间_min',\n",
    "                                             '故障原因定位（大类）']]\n",
    "X_train = train[col].copy().reset_index(drop=True).values\n",
    "y_train = train['故障原因定位（大类）'].copy().reset_index(drop=True).values\n",
    "X_test = test[col].copy().values\n",
    "print(X_train.shape, X_test.shape)"
   ]
  },
  {
   "cell_type": "code",
   "execution_count": 35,
   "metadata": {},
   "outputs": [],
   "source": [
    "def accua_xgb(df1, df_oof):\n",
    "    rr = list(np.argsort(df_oof,axis=1)[:,-3:])\n",
    "    acc = 0\n",
    "    for i in range(len(df1)):\n",
    "        acc += len(set([df1[i]])&set(list(rr[i])))\n",
    "    return acc/len(df1)"
   ]
  },
  {
   "cell_type": "code",
   "execution_count": 38,
   "metadata": {},
   "outputs": [
    {
     "name": "stdout",
     "output_type": "stream",
     "text": [
      "\n",
      "Fold  1\n",
      "[0]\ttrain-merror:0.38176\teval-merror:0.393696\n",
      "Multiple eval metrics have been passed: 'eval-merror' will be used for early stopping.\n",
      "\n",
      "Will train until eval-merror hasn't improved in 100 rounds.\n",
      "[200]\ttrain-merror:0.136829\teval-merror:0.303068\n",
      "[400]\ttrain-merror:0.039647\teval-merror:0.295209\n",
      "Stopping. Best iteration:\n",
      "[466]\ttrain-merror:0.023391\teval-merror:0.293203\n",
      "\n",
      "                       acc_score =  0.7067970905442689\n",
      "auc : 0.9283466282466131\n",
      "acc_3 : 0.9060279240866148\n",
      "****************************************************************************************************\n",
      "\n",
      "Fold  2\n",
      "[0]\ttrain-merror:0.387068\teval-merror:0.392137\n",
      "Multiple eval metrics have been passed: 'eval-merror' will be used for early stopping.\n",
      "\n",
      "Will train until eval-merror hasn't improved in 100 rounds.\n"
     ]
    },
    {
     "ename": "KeyboardInterrupt",
     "evalue": "",
     "output_type": "error",
     "traceback": [
      "\u001b[1;31m---------------------------------------------------------------------------\u001b[0m",
      "\u001b[1;31mKeyboardInterrupt\u001b[0m                         Traceback (most recent call last)",
      "\u001b[1;32m<timed exec>\u001b[0m in \u001b[0;36m<module>\u001b[1;34m\u001b[0m\n",
      "\u001b[1;32mc:\\users\\kzh\\appdata\\local\\programs\\python\\python37\\lib\\site-packages\\xgboost\\training.py\u001b[0m in \u001b[0;36mtrain\u001b[1;34m(params, dtrain, num_boost_round, evals, obj, feval, maximize, early_stopping_rounds, evals_result, verbose_eval, xgb_model, callbacks, learning_rates)\u001b[0m\n\u001b[0;32m    214\u001b[0m                            \u001b[0mevals\u001b[0m\u001b[1;33m=\u001b[0m\u001b[0mevals\u001b[0m\u001b[1;33m,\u001b[0m\u001b[1;33m\u001b[0m\u001b[1;33m\u001b[0m\u001b[0m\n\u001b[0;32m    215\u001b[0m                            \u001b[0mobj\u001b[0m\u001b[1;33m=\u001b[0m\u001b[0mobj\u001b[0m\u001b[1;33m,\u001b[0m \u001b[0mfeval\u001b[0m\u001b[1;33m=\u001b[0m\u001b[0mfeval\u001b[0m\u001b[1;33m,\u001b[0m\u001b[1;33m\u001b[0m\u001b[1;33m\u001b[0m\u001b[0m\n\u001b[1;32m--> 216\u001b[1;33m                            xgb_model=xgb_model, callbacks=callbacks)\n\u001b[0m\u001b[0;32m    217\u001b[0m \u001b[1;33m\u001b[0m\u001b[0m\n\u001b[0;32m    218\u001b[0m \u001b[1;33m\u001b[0m\u001b[0m\n",
      "\u001b[1;32mc:\\users\\kzh\\appdata\\local\\programs\\python\\python37\\lib\\site-packages\\xgboost\\training.py\u001b[0m in \u001b[0;36m_train_internal\u001b[1;34m(params, dtrain, num_boost_round, evals, obj, feval, xgb_model, callbacks)\u001b[0m\n\u001b[0;32m     72\u001b[0m         \u001b[1;31m# Skip the first update if it is a recovery step.\u001b[0m\u001b[1;33m\u001b[0m\u001b[1;33m\u001b[0m\u001b[1;33m\u001b[0m\u001b[0m\n\u001b[0;32m     73\u001b[0m         \u001b[1;32mif\u001b[0m \u001b[0mversion\u001b[0m \u001b[1;33m%\u001b[0m \u001b[1;36m2\u001b[0m \u001b[1;33m==\u001b[0m \u001b[1;36m0\u001b[0m\u001b[1;33m:\u001b[0m\u001b[1;33m\u001b[0m\u001b[1;33m\u001b[0m\u001b[0m\n\u001b[1;32m---> 74\u001b[1;33m             \u001b[0mbst\u001b[0m\u001b[1;33m.\u001b[0m\u001b[0mupdate\u001b[0m\u001b[1;33m(\u001b[0m\u001b[0mdtrain\u001b[0m\u001b[1;33m,\u001b[0m \u001b[0mi\u001b[0m\u001b[1;33m,\u001b[0m \u001b[0mobj\u001b[0m\u001b[1;33m)\u001b[0m\u001b[1;33m\u001b[0m\u001b[1;33m\u001b[0m\u001b[0m\n\u001b[0m\u001b[0;32m     75\u001b[0m             \u001b[0mbst\u001b[0m\u001b[1;33m.\u001b[0m\u001b[0msave_rabit_checkpoint\u001b[0m\u001b[1;33m(\u001b[0m\u001b[1;33m)\u001b[0m\u001b[1;33m\u001b[0m\u001b[1;33m\u001b[0m\u001b[0m\n\u001b[0;32m     76\u001b[0m             \u001b[0mversion\u001b[0m \u001b[1;33m+=\u001b[0m \u001b[1;36m1\u001b[0m\u001b[1;33m\u001b[0m\u001b[1;33m\u001b[0m\u001b[0m\n",
      "\u001b[1;32mc:\\users\\kzh\\appdata\\local\\programs\\python\\python37\\lib\\site-packages\\xgboost\\core.py\u001b[0m in \u001b[0;36mupdate\u001b[1;34m(self, dtrain, iteration, fobj)\u001b[0m\n\u001b[0;32m   1107\u001b[0m         \u001b[1;32mif\u001b[0m \u001b[0mfobj\u001b[0m \u001b[1;32mis\u001b[0m \u001b[1;32mNone\u001b[0m\u001b[1;33m:\u001b[0m\u001b[1;33m\u001b[0m\u001b[1;33m\u001b[0m\u001b[0m\n\u001b[0;32m   1108\u001b[0m             _check_call(_LIB.XGBoosterUpdateOneIter(self.handle, ctypes.c_int(iteration),\n\u001b[1;32m-> 1109\u001b[1;33m                                                     dtrain.handle))\n\u001b[0m\u001b[0;32m   1110\u001b[0m         \u001b[1;32melse\u001b[0m\u001b[1;33m:\u001b[0m\u001b[1;33m\u001b[0m\u001b[1;33m\u001b[0m\u001b[0m\n\u001b[0;32m   1111\u001b[0m             \u001b[0mpred\u001b[0m \u001b[1;33m=\u001b[0m \u001b[0mself\u001b[0m\u001b[1;33m.\u001b[0m\u001b[0mpredict\u001b[0m\u001b[1;33m(\u001b[0m\u001b[0mdtrain\u001b[0m\u001b[1;33m)\u001b[0m\u001b[1;33m\u001b[0m\u001b[1;33m\u001b[0m\u001b[0m\n",
      "\u001b[1;31mKeyboardInterrupt\u001b[0m: "
     ]
    }
   ],
   "source": [
    "%%time\n",
    "K = 5\n",
    "seed = 2021\n",
    "skf = StratifiedKFold(n_splits=K, shuffle=True, random_state=seed)\n",
    "xgb_pred_te_all = 0\n",
    "xgb_auc_mean = 0\n",
    "xgb_auc_mean2 = 0\n",
    "f1 = []\n",
    "logsocre = []\n",
    "oof_xgb = np.zeros((len(X_train), 23))\n",
    "for i, (train_index, test_index) in enumerate(skf.split(X_train,y_train)):\n",
    "        y_tr, y_val = y_train[train_index].copy(), y_train[test_index].copy()\n",
    "        X_tr, X_val= X_train[train_index,:].copy(), X_train[test_index,:].copy()\n",
    "        print( \"\\nFold \", i+1)\n",
    "\n",
    "        xgb_tr = xgb.DMatrix(X_tr, y_tr)\n",
    "        xgb_val = xgb.DMatrix(X_val, y_val)\n",
    "        xgb_te = xgb.DMatrix(X_test)\n",
    "        xgb_params = {\"objective\": 'multi:softprob',\n",
    "                      \"booster\" : \"gbtree\",\n",
    "                      \"eta\": 0.06,\n",
    "                      \"max_depth\":9,#9\n",
    "                      \"subsample\": 0.85,#0.85\n",
    "                      'eval_metric':'mlogloss',#mlogloss\n",
    "                      'num_class': 23, \n",
    "                      \"colsample_bylevel\":0.7,#0.8\n",
    "#                       'gpu_id':0,\n",
    "                      'tree_method':'gpu_hist',\n",
    "                      'lambda':6,\n",
    "                      \"seed\": 666\n",
    "                      }\n",
    "        watchlist = [(xgb_tr, 'train'), (xgb_val, 'eval')]\n",
    "        xgb_model =xgb.train(xgb_params,\n",
    "                     xgb_tr,\n",
    "                     num_boost_round = 2666,\n",
    "                     evals =watchlist,\n",
    "                     verbose_eval=200,\n",
    "                     early_stopping_rounds=100)\n",
    "\n",
    "        pred = xgb_model.predict(xgb_val, ntree_limit=xgb_model.best_ntree_limit)\n",
    "        oof_xgb[test_index] = pred\n",
    "        val_pred = [np.argmax(x) for x in pred]\n",
    "        acc = accuracy_score(y_val, val_pred)\n",
    "        logsocre.append(xgb_model.best_score)\n",
    "        print( \"                       acc_score = \", acc )\n",
    "        print('auc :', roc_auc_score(pd.get_dummies(y_val).values, pred,average='weighted'))\n",
    "        print('acc_3 :', accua_xgb(y_val, pred))\n",
    "        f1.append(accua_xgb(y_val, pred))\n",
    "        print(\"*\"*100)\n",
    "        pred_te = xgb_model.predict(xgb_te,ntree_limit=xgb_model.best_ntree_limit)\n",
    "        xgb_pred_te_all = xgb_pred_te_all + pred_te / K\n",
    "print(\"=\"*50+'result'+\"=\"*50)\n",
    "print( \" mean_f1 = \", np.mean(f1) ,np.std(f1))\n",
    "print( \" mean_mlog = \", np.mean(logsocre) ,np.std(logsocre))"
   ]
  },
  {
   "cell_type": "code",
   "execution_count": 39,
   "metadata": {},
   "outputs": [
    {
     "data": {
      "text/plain": [
       "Feature\n",
       "故障发生时间_min                 16903\n",
       "故障发生时间_diff                16802\n",
       "涉及告警基站或小区名称_code           13000\n",
       "故障发生时间_dayofyear           11778\n",
       "故障发生时间_hour                11424\n",
       "故障发生时间_day                 11297\n",
       "告警标题_skew                   9348\n",
       "告警发生时间_是否周末_mean_告警         9320\n",
       "故障发生时间_diff_mean            8663\n",
       "故障发生时间_diff_min             8156\n",
       "故障发生时间_diff_max             7363\n",
       "告警发生时间_dayofyear_min_告警     6886\n",
       "idf_19                      6873\n",
       "故障发生时间_weekday              6857\n",
       "告警发生时间_dayofyear_ptp_告警     6714\n",
       "告警标题_std                    6701\n",
       "小区故障时间_min                  6701\n",
       "top_5                       6607\n",
       "告警发生时间_dayofyear_max_告警     6572\n",
       "小区故障时间_max                  6569\n",
       "故障发生时间_diff_std             6474\n",
       "故障发生时间_dayofyear_dmin       6456\n",
       "top_4                       6079\n",
       "top_6                       5734\n",
       "告警标题_mean                   5618\n",
       "top_1                       5464\n",
       "top_3                       5435\n",
       "top_2                       5370\n",
       "故障发生时间_diff_ptp             5309\n",
       "idf_71                      5303\n",
       "                           ...  \n",
       "85n                            0\n",
       "98n                            0\n",
       "idf_57                         0\n",
       "8n                             0\n",
       "97n                            0\n",
       "56n                            0\n",
       "idf_8                          0\n",
       "26n                            0\n",
       "36n                            0\n",
       "idf_22                         0\n",
       "idf_84                         0\n",
       "idf_24                         0\n",
       "30n                            0\n",
       "31n                            0\n",
       "32n                            0\n",
       "33n                            0\n",
       "34n                            0\n",
       "35n                            0\n",
       "37n                            0\n",
       "50n                            0\n",
       "96n                            0\n",
       "39n                            0\n",
       "40n                            0\n",
       "41n                            0\n",
       "42n                            0\n",
       "45n                            0\n",
       "46n                            0\n",
       "48n                            0\n",
       "49n                            0\n",
       "65n                            0\n",
       "Name: importance, Length: 396, dtype: int32"
      ]
     },
     "execution_count": 39,
     "metadata": {},
     "output_type": "execute_result"
    }
   ],
   "source": [
    "fold_importance_df.groupby('Feature')['importance'].mean().sort_values(ascending=False)"
   ]
  },
  {
   "cell_type": "code",
   "execution_count": 40,
   "metadata": {},
   "outputs": [],
   "source": [
    "res=pd.DataFrame(oof,#predictions,\n",
    "                 columns=['传输系统-传输设备','传输系统-光缆故障','传输系统-其他原因',\n",
    "                         '动力环境-UPS','动力环境-电力部门供电','动力环境-电源线路故障',\n",
    "                         '动力环境-动环监控系统','动力环境-动力环境故障','动力环境-高低压设备',\n",
    "                         '动力环境-环境','动力环境-开关电源','其他-误告警或自动恢复',\n",
    "                         '人为操作-告警测试','人为操作-工程施工','人为操作-物业原因',\n",
    "                         '主设备-参数配置异常','主设备-其他','主设备-软件故障',\n",
    "                         '主设备-设备复位问题','主设备-设备连线故障','主设备-天馈线故障',\n",
    "                         '主设备-信源问题','主设备-硬件故障'])\n",
    "res['工单编号'] = train['工单编号'].values\n",
    "res = res.sort_values('工单编号')"
   ]
  },
  {
   "cell_type": "code",
   "execution_count": 41,
   "metadata": {},
   "outputs": [],
   "source": [
    "res[['工单编号','传输系统-传输设备','传输系统-光缆故障','传输系统-其他原因',\n",
    "                         '动力环境-UPS','动力环境-电力部门供电','动力环境-电源线路故障',\n",
    "                         '动力环境-动环监控系统','动力环境-动力环境故障','动力环境-高低压设备',\n",
    "                         '动力环境-环境','动力环境-开关电源','其他-误告警或自动恢复',\n",
    "                         '人为操作-告警测试','人为操作-工程施工','人为操作-物业原因',\n",
    "                         '主设备-参数配置异常','主设备-其他','主设备-软件故障',\n",
    "                         '主设备-设备复位问题','主设备-设备连线故障','主设备-天馈线故障',\n",
    "                         '主设备-信源问题','主设备-硬件故障']].to_csv('../lgb_9068_9299_oof.csv',index=None,encoding='gbk')"
   ]
  },
  {
   "cell_type": "code",
   "execution_count": 42,
   "metadata": {},
   "outputs": [],
   "source": [
    "res=pd.DataFrame(predictions,#predictions,\n",
    "                 columns=['传输系统-传输设备','传输系统-光缆故障','传输系统-其他原因',\n",
    "                         '动力环境-UPS','动力环境-电力部门供电','动力环境-电源线路故障',\n",
    "                         '动力环境-动环监控系统','动力环境-动力环境故障','动力环境-高低压设备',\n",
    "                         '动力环境-环境','动力环境-开关电源','其他-误告警或自动恢复',\n",
    "                         '人为操作-告警测试','人为操作-工程施工','人为操作-物业原因',\n",
    "                         '主设备-参数配置异常','主设备-其他','主设备-软件故障',\n",
    "                         '主设备-设备复位问题','主设备-设备连线故障','主设备-天馈线故障',\n",
    "                         '主设备-信源问题','主设备-硬件故障'])\n",
    "res['工单编号'] = test['工单编号'].values\n",
    "res = res.sort_values('工单编号')"
   ]
  },
  {
   "cell_type": "code",
   "execution_count": 53,
   "metadata": {},
   "outputs": [],
   "source": [
    "res[['工单编号','传输系统-传输设备','传输系统-光缆故障','传输系统-其他原因',\n",
    "                         '动力环境-UPS','动力环境-电力部门供电','动力环境-电源线路故障',\n",
    "                         '动力环境-动环监控系统','动力环境-动力环境故障','动力环境-高低压设备',\n",
    "                         '动力环境-环境','动力环境-开关电源','其他-误告警或自动恢复',\n",
    "                         '人为操作-告警测试','人为操作-工程施工','人为操作-物业原因',\n",
    "                         '主设备-参数配置异常','主设备-其他','主设备-软件故障',\n",
    "                         '主设备-设备复位问题','主设备-设备连线故障','主设备-天馈线故障',\n",
    "                         '主设备-信源问题','主设备-硬件故障']].to_csv('../submit90689299.csv',index=None,encoding='gbk')"
   ]
  },
  {
   "cell_type": "code",
   "execution_count": 43,
   "metadata": {},
   "outputs": [],
   "source": [
    "sub = pd.read_csv('../lgb_7036_7077.csv',encoding='gbk')"
   ]
  },
  {
   "cell_type": "code",
   "execution_count": 44,
   "metadata": {},
   "outputs": [
    {
     "name": "stdout",
     "output_type": "stream",
     "text": [
      "(0.9441496200777015, 0.0)\n",
      "(0.8847655447890934, 0.0)\n",
      "(0.8289772496761731, 0.0)\n",
      "(0.9849920825568332, 0.0)\n",
      "(0.9440950359124413, 0.0)\n",
      "(0.9244827223200238, 0.0)\n",
      "(0.8162489788327705, 0.0)\n",
      "(0.9367740086331099, 0.0)\n",
      "(0.9211228321392505, 0.0)\n",
      "(0.9506345566037168, 0.0)\n",
      "(0.8678439996245684, 0.0)\n",
      "(0.9880837169738357, 0.0)\n",
      "(0.9843659180436811, 0.0)\n",
      "(0.9765332799385134, 0.0)\n",
      "(0.7030307689021998, 0.0)\n",
      "(0.9559465932484362, 0.0)\n",
      "(0.912240542614693, 0.0)\n",
      "(0.9555448332979691, 0.0)\n",
      "(0.9409276387850162, 0.0)\n",
      "(0.9695048908427628, 0.0)\n",
      "(0.9297998130934574, 0.0)\n",
      "(0.9539897664614138, 0.0)\n",
      "(0.9603168194141636, 0.0)\n"
     ]
    }
   ],
   "source": [
    "import scipy.stats as sp\n",
    "for i in sub.columns:\n",
    "    if i != '工单编号':\n",
    "        print(sp.pearsonr(sub[i].values, res[i].values))"
   ]
  },
  {
   "cell_type": "code",
   "execution_count": null,
   "metadata": {},
   "outputs": [],
   "source": []
  }
 ],
 "metadata": {
  "kernelspec": {
   "display_name": "Python 3",
   "language": "python",
   "name": "python3"
  },
  "language_info": {
   "codemirror_mode": {
    "name": "ipython",
    "version": 3
   },
   "file_extension": ".py",
   "mimetype": "text/x-python",
   "name": "python",
   "nbconvert_exporter": "python",
   "pygments_lexer": "ipython3",
   "version": "3.7.3"
  }
 },
 "nbformat": 4,
 "nbformat_minor": 2
}
